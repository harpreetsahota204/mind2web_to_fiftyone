{
 "cells": [
  {
   "cell_type": "code",
   "execution_count": 1,
   "metadata": {},
   "outputs": [],
   "source": [
    "from datasets import load_dataset"
   ]
  },
  {
   "cell_type": "code",
   "execution_count": 2,
   "metadata": {},
   "outputs": [
    {
     "data": {
      "application/vnd.jupyter.widget-view+json": {
       "model_id": "54be912b3c4d4416a70d7dde88d37343",
       "version_major": 2,
       "version_minor": 0
      },
      "text/plain": [
       "Resolving data files:   0%|          | 0/27 [00:00<?, ?it/s]"
      ]
     },
     "metadata": {},
     "output_type": "display_data"
    }
   ],
   "source": [
    "tt_dataset = load_dataset(\n",
    "    \"osunlp/Multimodal-Mind2Web\",\n",
    "    split=\"test_task\",\n",
    ")"
   ]
  },
  {
   "cell_type": "code",
   "execution_count": 3,
   "metadata": {},
   "outputs": [
    {
     "data": {
      "application/vnd.jupyter.widget-view+json": {
       "model_id": "e1376846ea9046a9b9a64dc62e8c3d5d",
       "version_major": 2,
       "version_minor": 0
      },
      "text/plain": [
       "Map:   0%|          | 0/1339 [00:00<?, ? examples/s]"
      ]
     },
     "metadata": {},
     "output_type": "display_data"
    },
    {
     "name": "stderr",
     "output_type": "stream",
     "text": [
      "/home/harpreet/miniconda3/envs/fiftyone/lib/python3.11/site-packages/PIL/Image.py:3368: DecompressionBombWarning: Image size (125915272 pixels) exceeds limit of 89478485 pixels, could be decompression bomb DOS attack.\n",
      "  warnings.warn(\n"
     ]
    },
    {
     "name": "stdout",
     "output_type": "stream",
     "text": [
      "Skipping item 99e6a37a-fad2-449a-a359-8aa93687cb5b - no screenshot available\n",
      " 100% |███████████████| 1338/1338 [6.7s elapsed, 0s remaining, 210.4 samples/s]      \n",
      "Computing metadata...\n",
      " 100% |███████████████| 1338/1338 [3.6s elapsed, 0s remaining, 374.5 samples/s]        \n"
     ]
    }
   ],
   "source": [
    "from mind2web_to_fiftyone import create_fiftyone_dataset\n",
    "\n",
    "dataset = create_fiftyone_dataset(\n",
    "    data=tt_dataset,\n",
    "    dataset_name=\"mind2web_multimodal_test_task\",\n",
    "    screenshots_dir=\"test_task\"\n",
    ")"
   ]
  },
  {
   "cell_type": "code",
   "execution_count": null,
   "metadata": {},
   "outputs": [],
   "source": [
    "import fiftyone.utils.huggingface as fouh\n",
    "\n",
    "fouh.push_to_hub(\n",
    "    dataset,\n",
    "    \"mind2web_multimodal_test_task\",\n",
    ")"
   ]
  }
 ],
 "metadata": {
  "kernelspec": {
   "display_name": "fiftyone",
   "language": "python",
   "name": "python3"
  },
  "language_info": {
   "codemirror_mode": {
    "name": "ipython",
    "version": 3
   },
   "file_extension": ".py",
   "mimetype": "text/x-python",
   "name": "python",
   "nbconvert_exporter": "python",
   "pygments_lexer": "ipython3",
   "version": "3.11.9"
  }
 },
 "nbformat": 4,
 "nbformat_minor": 2
}
