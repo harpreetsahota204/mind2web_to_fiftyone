{
 "cells": [
  {
   "cell_type": "code",
   "execution_count": 1,
   "metadata": {},
   "outputs": [],
   "source": [
    "from datasets import load_dataset"
   ]
  },
  {
   "cell_type": "code",
   "execution_count": null,
   "metadata": {},
   "outputs": [],
   "source": [
    "tw_dataset = load_dataset(\n",
    "    \"osunlp/Multimodal-Mind2Web\",\n",
    "    split=\"test_website\",\n",
    ")"
   ]
  },
  {
   "cell_type": "code",
   "execution_count": null,
   "metadata": {},
   "outputs": [],
   "source": [
    "from mind2web_to_fiftyone import create_fiftyone_dataset\n",
    "\n",
    "dataset = create_fiftyone_dataset(\n",
    "    data=tw_dataset,\n",
    "    dataset_name=\"mind2web_multimodal_test_website\",\n",
    "    screenshots_dir=\"test_website\"\n",
    ")"
   ]
  },
  {
   "cell_type": "code",
   "execution_count": null,
   "metadata": {},
   "outputs": [],
   "source": [
    "import fiftyone.utils.huggingface as fouh\n",
    "\n",
    "fouh.push_to_hub(\n",
    "    dataset,\n",
    "    \"mind2web_multimodal_test_website\",\n",
    ")"
   ]
  }
 ],
 "metadata": {
  "kernelspec": {
   "display_name": "fiftyone",
   "language": "python",
   "name": "python3"
  },
  "language_info": {
   "codemirror_mode": {
    "name": "ipython",
    "version": 3
   },
   "file_extension": ".py",
   "mimetype": "text/x-python",
   "name": "python",
   "nbconvert_exporter": "python",
   "pygments_lexer": "ipython3",
   "version": "3.11.9"
  }
 },
 "nbformat": 4,
 "nbformat_minor": 2
}
